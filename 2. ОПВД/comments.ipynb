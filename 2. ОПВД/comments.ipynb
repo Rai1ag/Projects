{
 "cells": [
  {
   "cell_type": "markdown",
   "metadata": {},
   "source": [
    "Код, в целом, понятен и хорошо читается, используются функции, но нет `__annotations__` и `__doc__`.\n",
    "В работе присутствуют графики всех типов.\n",
    "Все критерии соблюдены для выполнения работы."
   ]
  }
 ],
 "metadata": {
  "language_info": {
   "name": "python"
  }
 },
 "nbformat": 4,
 "nbformat_minor": 2
}
